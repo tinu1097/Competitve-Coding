{
  "nbformat": 4,
  "nbformat_minor": 0,
  "metadata": {
    "colab": {
      "name": "Assignment: Final Course Assignment.ipynb",
      "provenance": [],
      "collapsed_sections": [],
      "toc_visible": true,
      "authorship_tag": "ABX9TyNxo4VrpgGIGyOxefsui3n/",
      "include_colab_link": true
    },
    "kernelspec": {
      "name": "python3",
      "display_name": "Python 3"
    },
    "language_info": {
      "name": "python"
    }
  },
  "cells": [
    {
      "cell_type": "markdown",
      "metadata": {
        "id": "view-in-github",
        "colab_type": "text"
      },
      "source": [
        "<a href=\"https://colab.research.google.com/github/tinu1097/Competitve-Coding/blob/main/Assignment_Final_Course_Assignment.ipynb\" target=\"_parent\"><img src=\"https://colab.research.google.com/assets/colab-badge.svg\" alt=\"Open In Colab\"/></a>"
      ]
    },
    {
      "cell_type": "markdown",
      "source": [
        "Below are a set of scores that students have received in the past semester. Write code to determine how many are 90 or above and assign that result to the value a_scores."
      ],
      "metadata": {
        "id": "M7cXGfj5aI1T"
      }
    },
    {
      "cell_type": "code",
      "execution_count": 88,
      "metadata": {
        "colab": {
          "base_uri": "https://localhost:8080/"
        },
        "id": "Kzpp6U9xF0xw",
        "outputId": "009d513c-9df7-4235-a1d7-35f20d39d26b"
      },
      "outputs": [
        {
          "output_type": "stream",
          "name": "stdout",
          "text": [
            "10\n"
          ]
        }
      ],
      "source": [
        "scores = \"67 80 90 78 93 20 79 89 96 97 92 88 79 68 58 90 98 100 79 74 83 88 80 86 85 70 90 100\"\n",
        "scores = scores.split()\n",
        "scores = list(map(int,scores))\n",
        "a_scores = 0\n",
        "for i in scores:\n",
        "  if i>=90:\n",
        "    a_scores+=1\n",
        "print(a_scores)\n"
      ]
    },
    {
      "cell_type": "markdown",
      "source": [
        "Write code that uses the string stored in org and creates an acronym which is assigned to the variable acro. Only the first letter of each word should be used, each letter in the acronym should be a capital letter, and there should be nothing to separate the letters of the acronym. Words that should not be included in the acronym are stored in the list stopwords. For example, if org was assigned the string “hello to world” then the resulting acronym should be “HW”."
      ],
      "metadata": {
        "id": "ApnQU52laCc_"
      }
    },
    {
      "cell_type": "code",
      "source": [
        "stopwords = ['to', 'a', 'for', 'by', 'an', 'am', 'the', 'so', 'it', 'and', \"The\"]\n",
        "org = \"The organization for health, safety, and education\"\n",
        "org = org.split()\n",
        "acro = \"\"\n",
        "for i in org:\n",
        "  if i in stopwords:\n",
        "    org.remove(i)\n",
        "for i in org:\n",
        "  acro+=i[0]\n",
        "acro = acro.upper()\n",
        "print(acro)"
      ],
      "metadata": {
        "colab": {
          "base_uri": "https://localhost:8080/"
        },
        "id": "B0__dWSvGICq",
        "outputId": "0ee8bedb-9d52-4f8e-cd15-97896569399c"
      },
      "execution_count": 89,
      "outputs": [
        {
          "output_type": "stream",
          "name": "stdout",
          "text": [
            "OHSE\n"
          ]
        }
      ]
    },
    {
      "cell_type": "markdown",
      "source": [
        "Write code that uses the string stored in sent and creates an acronym which is assigned to the variable acro. The first two letters of each word should be used, each letter in the acronym should be a capital letter, and each element of the acronym should be separated by a “. ” (dot and space). Words that should not be included in the acronym are stored in the list stopwords. For example, if sent was assigned the string “height and ewok wonder” then the resulting acronym should be “HE. EW. WO”."
      ],
      "metadata": {
        "id": "xicb9-cTZ8DE"
      }
    },
    {
      "cell_type": "code",
      "source": [
        "stopwords = ['to', 'a', 'for', 'by', 'an', 'am', 'the', 'so', 'it', 'and', 'The']\n",
        "sent = \"The water earth and air are vital\"\n",
        "sent = sent.split()\n",
        "acro = \"\"\n",
        "for i in sent:\n",
        "  if i in stopwords:\n",
        "    sent.remove(i)\n",
        "for j in sent:\n",
        "  acro+=j[0]+j[1]\n",
        "  if j!=sent[-1]:\n",
        "    acro = acro + \".\"\n",
        "print(acro.upper())"
      ],
      "metadata": {
        "colab": {
          "base_uri": "https://localhost:8080/"
        },
        "id": "U6Rt4pfKSq9x",
        "outputId": "f09ef4e2-5298-40d9-ff02-f3a31ed2ec2a"
      },
      "execution_count": 90,
      "outputs": [
        {
          "output_type": "stream",
          "name": "stdout",
          "text": [
            "WA.EA.AI.AR.VI\n"
          ]
        }
      ]
    },
    {
      "cell_type": "markdown",
      "source": [
        "A palindrome is a phrase that, if reversed, would read the exact same. Write code that checks if p_phrase is a palindrome by reversing it and then checking if the reversed version is equal to the original. Assign the reversed version of p_phrase to the variable r_phrase so that we can check your work."
      ],
      "metadata": {
        "id": "H-bPCoBfSpF2"
      }
    },
    {
      "cell_type": "code",
      "source": [
        "p_phrase = \"was it a car or a cat I saw\"\n",
        "r_phrase = p_phrase[::-1]\n",
        "print(r_phrase)\n"
      ],
      "metadata": {
        "colab": {
          "base_uri": "https://localhost:8080/"
        },
        "id": "vU1D1wniGIHT",
        "outputId": "bc82352f-5bee-431f-881c-7e3f1cee8566"
      },
      "execution_count": 91,
      "outputs": [
        {
          "output_type": "stream",
          "name": "stdout",
          "text": [
            "was I tac a ro rac a ti saw\n"
          ]
        }
      ]
    },
    {
      "cell_type": "markdown",
      "source": [
        "Provided is a list of data about a store’s inventory where each item in the list represents the name of an item, how much is in stock, and how much it costs. Print out each item in the list with the same formatting, using the .format method (not string concatenation). For example, the first print statment should read The store has 12 shoes, each for 29.99 USD."
      ],
      "metadata": {
        "id": "c3KB8GHjZu4U"
      }
    },
    {
      "cell_type": "code",
      "source": [
        "inventory = [\"shoes, 12, 29.99\", \"shirts, 20, 9.99\", \"sweatpants, 25, 15.00\", \"scarves, 13, 7.75\"]\n",
        "for i in inventory:\n",
        "  i = i.split(\",\")\n",
        "  print(\"The store has {} {} , each for {} USD.\".format(i[1],i[0],i[2]))\n"
      ],
      "metadata": {
        "colab": {
          "base_uri": "https://localhost:8080/"
        },
        "id": "ASN9A2zNGIKL",
        "outputId": "cc003ed9-f999-4cc6-caf0-a6c0829270cc"
      },
      "execution_count": 92,
      "outputs": [
        {
          "output_type": "stream",
          "name": "stdout",
          "text": [
            "The store has  12 shoes , each for  29.99 USD.\n",
            "The store has  20 shirts , each for  9.99 USD.\n",
            "The store has  25 sweatpants , each for  15.00 USD.\n",
            "The store has  13 scarves , each for  7.75 USD.\n"
          ]
        }
      ]
    },
    {
      "cell_type": "code",
      "source": [
        ""
      ],
      "metadata": {
        "id": "Gd2FJVrnaYWh"
      },
      "execution_count": null,
      "outputs": []
    },
    {
      "cell_type": "code",
      "source": [
        ""
      ],
      "metadata": {
        "id": "-1MovMYgaYc2"
      },
      "execution_count": null,
      "outputs": []
    }
  ]
}