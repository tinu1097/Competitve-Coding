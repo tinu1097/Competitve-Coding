{
  "nbformat": 4,
  "nbformat_minor": 0,
  "metadata": {
    "colab": {
      "name": "course_1_assessment_7.ipynb",
      "provenance": [],
      "collapsed_sections": [],
      "authorship_tag": "ABX9TyPxRS0FJMqVPIcd919eutgv",
      "include_colab_link": true
    },
    "kernelspec": {
      "name": "python3",
      "display_name": "Python 3"
    },
    "language_info": {
      "name": "python"
    }
  },
  "cells": [
    {
      "cell_type": "markdown",
      "metadata": {
        "id": "view-in-github",
        "colab_type": "text"
      },
      "source": [
        "<a href=\"https://colab.research.google.com/github/tinu1097/Competitve-Coding/blob/main/course_1_assessment_7.ipynb\" target=\"_parent\"><img src=\"https://colab.research.google.com/assets/colab-badge.svg\" alt=\"Open In Colab\"/></a>"
      ]
    },
    {
      "cell_type": "markdown",
      "source": [
        "rainfall_mi is a string that contains the average number of inches of rainfall in Michigan for every month (in inches) with every month separated by a comma. Write code to compute the number of months that have more than 3 inches of rainfall. Store the result in the variable num_rainy_months. In other words, count the number of items with values > 3.0\n"
      ],
      "metadata": {
        "id": "ss5RqSXLJHhz"
      }
    },
    {
      "cell_type": "code",
      "source": [
        "rainfall_mi = \"1.65, 1.46, 2.05, 3.03, 3.35, 3.46, 2.83, 3.23, 3.5, 2.52, 2.8, 1.85\"\n",
        "rainfall_mi = rainfall_mi.split(\",\")\n",
        "rainfall_mi = [float(i) for i in rainfall_mi]\n",
        "num_rainy_months = 0\n",
        "for i in rainfall_mi:\n",
        "    if i>float(3.0):\n",
        "        num_rainy_months+=1\n",
        "print(num_rainy_months)"
      ],
      "metadata": {
        "colab": {
          "base_uri": "https://localhost:8080/"
        },
        "id": "Sl9PYvi7JLB3",
        "outputId": "e049b89f-a8a5-418e-a462-135611b5ea43"
      },
      "execution_count": 3,
      "outputs": [
        {
          "output_type": "stream",
          "name": "stdout",
          "text": [
            "5\n"
          ]
        }
      ]
    },
    {
      "cell_type": "markdown",
      "source": [
        "The variable sentence stores a string. Write code to determine how many words in sentence start and end with the same letter, including one-letter words. Store the result in the variable same_letter_count."
      ],
      "metadata": {
        "id": "bA91yFAdJDsK"
      }
    },
    {
      "cell_type": "code",
      "source": [
        "sentence = \"students flock to the arb for a variety of outdoor activities such as jogging and picnicking\"\n",
        "sentence = sentence.split()\n",
        "same_letter_count = 0\n",
        "for i in sentence:\n",
        "    if i[0] ==i[-1]:\n",
        "        same_letter_count+=1\n",
        "print(same_letter_count)"
      ],
      "metadata": {
        "colab": {
          "base_uri": "https://localhost:8080/"
        },
        "id": "ZNMfM-3TJCng",
        "outputId": "9440dc09-fee5-4ad4-8091-1c4114bb0f49"
      },
      "execution_count": 4,
      "outputs": [
        {
          "output_type": "stream",
          "name": "stdout",
          "text": [
            "2\n"
          ]
        }
      ]
    },
    {
      "cell_type": "markdown",
      "source": [
        "Write code to count the number of strings in list items that have the character w in it. Assign that number to the variable acc_num."
      ],
      "metadata": {
        "id": "bh1KjQCbJW2Q"
      }
    },
    {
      "cell_type": "code",
      "source": [
        "items = [\"whirring\", \"wow!\", \"calendar\", \"wry\", \"glass\", \"\", \"llama\",\"tumultuous\",\"owing\"]\n",
        "acc_num = 0\n",
        "for i in items:\n",
        "    if 'w' in i:\n",
        "        acc_num+=1\n",
        "print(acc_num)\n"
      ],
      "metadata": {
        "colab": {
          "base_uri": "https://localhost:8080/"
        },
        "id": "AJfMkS6QJCqi",
        "outputId": "e0e4acd5-b735-46a8-c9d0-cce23372b191"
      },
      "execution_count": 5,
      "outputs": [
        {
          "output_type": "stream",
          "name": "stdout",
          "text": [
            "4\n"
          ]
        }
      ]
    },
    {
      "cell_type": "markdown",
      "source": [
        "Write code that counts the number of words in sentence that contain either an “a” or an “e”. Store the result in the variable num_a_or_e."
      ],
      "metadata": {
        "id": "cEk-j7SEJdYG"
      }
    },
    {
      "cell_type": "code",
      "source": [
        "sentence = \"python is a high level general purpose programming language that can be applied to many different classes of problems.\"\n",
        "sentence = sentence.split()\n",
        "num_a = 0\n",
        "num_e = 0\n",
        "for i in sentence:\n",
        "    if 'a' in i:\n",
        "        num_a+=1\n",
        "    elif 'e' in i:\n",
        "        num_e+=1\n",
        "num_a_or_e = num_a + num_e\n",
        "print(num_a_or_e)\n"
      ],
      "metadata": {
        "colab": {
          "base_uri": "https://localhost:8080/"
        },
        "id": "FNk_XcfwJCuY",
        "outputId": "0700cc55-10dd-4444-8d4f-9e33a2e1c35f"
      },
      "execution_count": 6,
      "outputs": [
        {
          "output_type": "stream",
          "name": "stdout",
          "text": [
            "14\n"
          ]
        }
      ]
    },
    {
      "cell_type": "markdown",
      "source": [
        "Write code that will count the number of vowels in the sentence s and assign the result to the variable num_vowels. For this problem, vowels are only a, e, i, o, and u. Hint: use the in operator with vowels."
      ],
      "metadata": {
        "id": "SvFYDyjKJibV"
      }
    },
    {
      "cell_type": "code",
      "source": [
        "s = \"singing in the rain and playing in the rain are two entirely different situations but both can be fun\"\n",
        "vowels = ['a','e','i','o','u']\n",
        "num_vowels = 0\n",
        "s  = list(s)\n",
        "for i in s:\n",
        "  if i in vowels:\n",
        "    num_vowels+=1\n",
        "print(num_vowels)"
      ],
      "metadata": {
        "colab": {
          "base_uri": "https://localhost:8080/"
        },
        "id": "oUyOeUK-JCx-",
        "outputId": "0d3b938a-95c1-492a-9375-971168d12238"
      },
      "execution_count": 7,
      "outputs": [
        {
          "output_type": "stream",
          "name": "stdout",
          "text": [
            "32\n"
          ]
        }
      ]
    },
    {
      "cell_type": "code",
      "source": [
        ""
      ],
      "metadata": {
        "id": "tSBDe5a4JC18"
      },
      "execution_count": null,
      "outputs": []
    }
  ]
}