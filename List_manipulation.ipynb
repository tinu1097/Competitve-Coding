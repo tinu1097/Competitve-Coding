{
  "nbformat": 4,
  "nbformat_minor": 0,
  "metadata": {
    "colab": {
      "name": "List_manipulation.ipynb",
      "provenance": [],
      "collapsed_sections": [],
      "toc_visible": true,
      "authorship_tag": "ABX9TyOzg0tDGAuWXG6kCvCx4N6x",
      "include_colab_link": true
    },
    "kernelspec": {
      "name": "python3",
      "display_name": "Python 3"
    },
    "language_info": {
      "name": "python"
    }
  },
  "cells": [
    {
      "cell_type": "markdown",
      "metadata": {
        "id": "view-in-github",
        "colab_type": "text"
      },
      "source": [
        "<a href=\"https://colab.research.google.com/github/tinu1097/Competitve-Coding/blob/main/List_manipulation.ipynb\" target=\"_parent\"><img src=\"https://colab.research.google.com/assets/colab-badge.svg\" alt=\"Open In Colab\"/></a>"
      ]
    },
    {
      "cell_type": "code",
      "execution_count": null,
      "metadata": {
        "id": "49t7ac7NpIhO"
      },
      "outputs": [],
      "source": [
        "nested = {'data': ['finding', 23, ['exercises', 'hangout', 34]], 'window': ['part', 'whole', [], 'sum', ['math', 'calculus', 'algebra', 'geometry', 'statistics',['physics', 'chemistry', 'biology']]]}\n"
      ]
    },
    {
      "cell_type": "code",
      "source": [
        "if \"data\" in nested[\"data\"]:\n",
        "    data = True\n",
        "else:\n",
        "    data = False"
      ],
      "metadata": {
        "id": "yhw9QVW-pN7p"
      },
      "execution_count": null,
      "outputs": []
    },
    {
      "cell_type": "code",
      "source": [
        "\n",
        "nested_d = {'Beijing':{'China':51, 'USA':36, 'Russia':22, 'Great Britain':19}, 'London':{'USA':46, 'China':38, 'Great Britain':29, 'Russia':22}, 'Rio':{'USA':35, 'Great Britain':22, 'China':20, 'Germany':13}}\n",
        "london_gold = nested_d['Beijing']['Great Britain']+ nested_d['London']['Great Britain'] + nested_d['Rio']['Great Britain']\n",
        "print(london_gold)"
      ],
      "metadata": {
        "colab": {
          "base_uri": "https://localhost:8080/"
        },
        "id": "gfB1D8zdpN-H",
        "outputId": "13d78e7c-2d55-4003-8493-18b9750514a9"
      },
      "execution_count": null,
      "outputs": [
        {
          "output_type": "stream",
          "name": "stdout",
          "text": [
            "70\n"
          ]
        }
      ]
    },
    {
      "cell_type": "code",
      "source": [
        "sports = {'swimming': ['butterfly', 'breaststroke', 'backstroke', 'freestyle'], 'diving': ['springboard', 'platform', 'synchronized'], 'track': ['sprint', 'distance', 'jumps', 'throws'], 'gymnastics': {'women':['vault', 'floor', 'uneven bars', 'balance beam'], 'men': ['vault', 'parallel bars', 'floor', 'rings']}}\n",
        "v1 = sports[\"swimming\"][2]\n",
        "v1"
      ],
      "metadata": {
        "colab": {
          "base_uri": "https://localhost:8080/",
          "height": 37
        },
        "id": "LbIlMRHipOA7",
        "outputId": "97b08204-33f4-4c8e-8063-e119b2702cfa"
      },
      "execution_count": null,
      "outputs": [
        {
          "output_type": "execute_result",
          "data": {
            "application/vnd.google.colaboratory.intrinsic+json": {
              "type": "string"
            },
            "text/plain": [
              "'backstroke'"
            ]
          },
          "metadata": {},
          "execution_count": 7
        }
      ]
    },
    {
      "cell_type": "code",
      "source": [
        "athletes = [['Phelps', 'Lochte', 'Schooling', 'Ledecky', 'Franklin'], ['Felix', 'Bolt', 'Gardner', 'Eaton'], ['Biles', 'Douglas', 'Hamm', 'Raisman', 'Mikulak', 'Dalton']]\n",
        "t = []\n",
        "others = []\n",
        "for i in athletes:\n",
        "  for j in i :\n",
        "    if \"t\" in j:\n",
        "      t.append(j)\n",
        "    else:\n",
        "      others.append(j)\n",
        "print(t)\n",
        "print(others)\n"
      ],
      "metadata": {
        "colab": {
          "base_uri": "https://localhost:8080/"
        },
        "id": "QBZG9o23pODX",
        "outputId": "9dd78cf0-bdde-4aee-c10f-6c382d574ccb"
      },
      "execution_count": null,
      "outputs": [
        {
          "output_type": "stream",
          "name": "stdout",
          "text": [
            "['Lochte', 'Bolt', 'Eaton', 'Dalton']\n",
            "['Phelps', 'Schooling', 'Ledecky', 'Franklin', 'Felix', 'Gardner', 'Biles', 'Douglas', 'Hamm', 'Raisman', 'Mikulak']\n"
          ]
        }
      ]
    },
    {
      "cell_type": "code",
      "source": [
        "letter_counts = {}\n",
        "for let in \"Mississippi\":\n",
        "  letter_counts[let] = letter_counts.get(let,0)+1\n",
        "print(letter_counts)"
      ],
      "metadata": {
        "colab": {
          "base_uri": "https://localhost:8080/"
        },
        "id": "m0Lqz32z1J5b",
        "outputId": "076478ca-a505-4a27-b3c9-9d79a2524b6f"
      },
      "execution_count": null,
      "outputs": [
        {
          "output_type": "stream",
          "name": "stdout",
          "text": [
            "{'M': 1, 'i': 4, 's': 4, 'p': 2}\n"
          ]
        }
      ]
    },
    {
      "cell_type": "code",
      "source": [
        "let_tup = list(letter_counts.items())\n",
        "let_tup.sort()\n",
        "print(let_tup)"
      ],
      "metadata": {
        "colab": {
          "base_uri": "https://localhost:8080/"
        },
        "id": "BQol8-9VAfLR",
        "outputId": "16395a9f-1914-4778-f54c-86d325573ca0"
      },
      "execution_count": null,
      "outputs": [
        {
          "output_type": "stream",
          "name": "stdout",
          "text": [
            "[('M', 1), ('i', 4), ('p', 2), ('s', 4)]\n"
          ]
        }
      ]
    },
    {
      "cell_type": "code",
      "source": [
        "def add_fruit(inventory, fruit, quantity=0):\n",
        "  return add_fruit\n",
        "\n",
        " # Make these tests work...\n",
        "#new_inventory = {}\n",
        "#add_fruit(new_inventory, \"strawberries\", 10)\n",
        "##test(\"strawberries\" in new_inventory)\n",
        "#test(new_inventory[\"strawberries\"] == 10)\n",
        "#add_fruit(new_inventory, \"strawberries\", 25)\n",
        "#print(x)\n",
        "#test(new_inventory[\"strawberries\"] == 35)"
      ],
      "metadata": {
        "colab": {
          "base_uri": "https://localhost:8080/"
        },
        "id": "f0kdcHLrAfPH",
        "outputId": "2a528b56-7358-4d94-ea32-f2cadd55fca3"
      },
      "execution_count": 4,
      "outputs": [
        {
          "output_type": "stream",
          "name": "stdout",
          "text": [
            "<function add_fruit at 0x7fc2add51f80>\n"
          ]
        }
      ]
    },
    {
      "cell_type": "code",
      "source": [
        "def triple(value):\n",
        "  return 3*value\n",
        "\n",
        "def triplestuff(a_list):\n",
        "  new_list = map(triple,a_list)\n",
        "  return new_list\n",
        "\n",
        "def quadrle(a_list):\n",
        "  new_l = map(lambda x: 4*x,a_list)\n",
        "  return new_l\n",
        "\n",
        "things = [2,5,9]\n",
        "x = list(triplestuff(things))\n",
        "print(x)"
      ],
      "metadata": {
        "colab": {
          "base_uri": "https://localhost:8080/"
        },
        "id": "ZOMf9GqfAfTq",
        "outputId": "05c51a2d-a548-4895-8a86-4e7a5982014c"
      },
      "execution_count": null,
      "outputs": [
        {
          "output_type": "stream",
          "name": "stdout",
          "text": [
            "[6, 15, 27]\n"
          ]
        }
      ]
    },
    {
      "cell_type": "code",
      "source": [
        "#abbreves = [\"usa\",\"esp\",\"chn\",\"jpn\",\"mex\",\"can\",\"rus\",\"rsa\",\"jan\"]\n",
        "def trans_s(s):\n",
        "  return s.upper()\n",
        "\n",
        "abbreves = [\"usa\",\"esp\",\"chn\",\"jpn\",\"mex\",\"can\",\"rus\",\"rsa\",\"jan\"]\n",
        "x = list(map(trans_s,abbreves))\n",
        "print(x)"
      ],
      "metadata": {
        "colab": {
          "base_uri": "https://localhost:8080/"
        },
        "id": "9DETPkMYAfWp",
        "outputId": "edb3600a-0ebb-4b66-9414-447660171475"
      },
      "execution_count": null,
      "outputs": [
        {
          "output_type": "stream",
          "name": "stdout",
          "text": [
            "['USA', 'ESP', 'CHN', 'JPN', 'MEX', 'CAN', 'RUS', 'RSA', 'JAN']\n"
          ]
        }
      ]
    },
    {
      "cell_type": "code",
      "source": [
        "abbreves = [\"usa\",\"esp\",\"chn\",\"jpn\",\"mex\",\"can\",\"rus\",\"rsa\",\"jan\"]\n",
        "x = list(map(lambda x:x.upper(),abbreves))\n",
        "print(x)"
      ],
      "metadata": {
        "colab": {
          "base_uri": "https://localhost:8080/"
        },
        "id": "O_2wS8RVPOB8",
        "outputId": "dcf8d19c-7ba8-4b4b-d3fb-e55ca48e8c72"
      },
      "execution_count": null,
      "outputs": [
        {
          "output_type": "stream",
          "name": "stdout",
          "text": [
            "['USA', 'ESP', 'CHN', 'JPN', 'MEX', 'CAN', 'RUS', 'RSA', 'JAN']\n"
          ]
        }
      ]
    },
    {
      "cell_type": "code",
      "source": [
        "ls = [\"witch\",\"cot\",\"moon\",\"wagon\"]\n",
        "def chr(a_list):\n",
        "  new_l = filter(lambda x:\"o\" in x,a_list)\n",
        "  return list(new_l)"
      ],
      "metadata": {
        "id": "TGorxuqTK50h"
      },
      "execution_count": null,
      "outputs": []
    },
    {
      "cell_type": "code",
      "source": [
        "ls = [\"witch\",\"cot\",\"moon\",\"wagon\"]\n",
        "y = list(filter(lambda s:\"o\" in s,ls))\n",
        "print(y)"
      ],
      "metadata": {
        "colab": {
          "base_uri": "https://localhost:8080/"
        },
        "id": "hEEYuFXuPYpM",
        "outputId": "29860a27-54a7-4830-f8d2-553e06343e4c"
      },
      "execution_count": null,
      "outputs": [
        {
          "output_type": "stream",
          "name": "stdout",
          "text": [
            "['cot', 'moon', 'wagon']\n"
          ]
        }
      ]
    },
    {
      "cell_type": "code",
      "source": [
        "x = chr(ls)\n",
        "print(x)"
      ],
      "metadata": {
        "colab": {
          "base_uri": "https://localhost:8080/"
        },
        "id": "4q8mBJWOO0Vg",
        "outputId": "a1caf272-2504-43c5-d8ae-77bfdda9ccfa"
      },
      "execution_count": null,
      "outputs": [
        {
          "output_type": "stream",
          "name": "stdout",
          "text": [
            "['cot', 'moon', 'wagon']\n"
          ]
        }
      ]
    },
    {
      "cell_type": "code",
      "source": [
        "lst_check = ['plums', 'watermelon', 'kiwi', 'strawberries', 'blueberries', 'peaches', 'apples', 'mangos', 'papaya']\n",
        "def add_f(s):\n",
        "  return \"Fruit:\"+ s"
      ],
      "metadata": {
        "id": "fUrbqvVdO6FA"
      },
      "execution_count": null,
      "outputs": []
    },
    {
      "cell_type": "code",
      "source": [
        "lst_check = ['plums', 'watermelon', 'kiwi', 'strawberries', 'blueberries', 'peaches', 'apples', 'mangos', 'papaya']\n",
        "map_testing = list(map(add_f,lst_check))\n",
        "print(map_testing)"
      ],
      "metadata": {
        "colab": {
          "base_uri": "https://localhost:8080/"
        },
        "id": "hA7cebt6QIMs",
        "outputId": "fc55dd44-3dac-4590-90e9-7fcdefd3adf9"
      },
      "execution_count": null,
      "outputs": [
        {
          "output_type": "stream",
          "name": "stdout",
          "text": [
            "['fruit:plums', 'fruit:watermelon', 'fruit:kiwi', 'fruit:strawberries', 'fruit:blueberries', 'fruit:peaches', 'fruit:apples', 'fruit:mangos', 'fruit:papaya']\n"
          ]
        }
      ]
    },
    {
      "cell_type": "code",
      "source": [
        "lst_check = ['plums', 'watermelon', 'kiwi', 'strawberries', 'blueberries', 'peaches', 'apples', 'mangos', 'papaya']\n",
        "map_testing = list(map(lambda x:\"Fruit:\"+x,lst_check))\n",
        "print(map_testing)"
      ],
      "metadata": {
        "colab": {
          "base_uri": "https://localhost:8080/"
        },
        "id": "gLMS31AKQcr5",
        "outputId": "d2fdbc9c-16f2-4348-a699-ed5df18c8f38"
      },
      "execution_count": null,
      "outputs": [
        {
          "output_type": "stream",
          "name": "stdout",
          "text": [
            "['Fruit:plums', 'Fruit:watermelon', 'Fruit:kiwi', 'Fruit:strawberries', 'Fruit:blueberries', 'Fruit:peaches', 'Fruit:apples', 'Fruit:mangos', 'Fruit:papaya']\n"
          ]
        }
      ]
    },
    {
      "cell_type": "code",
      "source": [
        "countries = ['Canada', 'Mexico', 'Brazil', 'Chile', 'Denmark', 'Botswana', 'Spain', 'Britain', 'Portugal', 'Russia', 'Thailand', 'Bangladesh', 'Nigeria', 'Argentina', 'Belarus', 'Laos', 'Australia', 'Panama', 'Egypt', 'Morocco', 'Switzerland', 'Belgium']\n",
        "b_countries = list(filter(lambda x:x.startswith(\"B\"),countries))\n",
        "print(b_countries)\n"
      ],
      "metadata": {
        "colab": {
          "base_uri": "https://localhost:8080/"
        },
        "id": "wZ5TT6WvQjw_",
        "outputId": "214a10c5-49c5-436f-9e88-0629f97bd420"
      },
      "execution_count": null,
      "outputs": [
        {
          "output_type": "stream",
          "name": "stdout",
          "text": [
            "['Brazil', 'Botswana', 'Britain', 'Bangladesh', 'Belarus', 'Belgium']\n"
          ]
        }
      ]
    },
    {
      "cell_type": "code",
      "source": [
        "people = [('Snow', 'Jon'), ('Lannister', 'Cersei'), ('Stark', 'Arya'), ('Stark', 'Robb'), ('Lannister', 'Jamie'), ('Targaryen', 'Daenerys'), ('Stark', 'Sansa'), ('Tyrell', 'Margaery'), ('Stark', 'Eddard'), ('Lannister', 'Tyrion'), ('Baratheon', 'Joffrey'), ('Bolton', 'Ramsey'), ('Baelish', 'Peter')]\n",
        "first_name = []\n",
        "for i in people:\n",
        "  first_name.append((i[0]))\n",
        "print(first_name)"
      ],
      "metadata": {
        "colab": {
          "base_uri": "https://localhost:8080/"
        },
        "id": "Df7xdWkkR2PV",
        "outputId": "7b74aa2a-424b-46da-99cb-f53c9bb42461"
      },
      "execution_count": null,
      "outputs": [
        {
          "output_type": "stream",
          "name": "stdout",
          "text": [
            "['Snow', 'Lannister', 'Stark', 'Stark', 'Lannister', 'Targaryen', 'Stark', 'Tyrell', 'Stark', 'Lannister', 'Baratheon', 'Bolton', 'Baelish']\n"
          ]
        }
      ]
    },
    {
      "cell_type": "code",
      "source": [
        "people = [('Snow', 'Jon'), ('Lannister', 'Cersei'), ('Stark', 'Arya'), ('Stark', 'Robb'), ('Lannister', 'Jamie'), ('Targaryen', 'Daenerys'), ('Stark', 'Sansa'), ('Tyrell', 'Margaery'), ('Stark', 'Eddard'), ('Lannister', 'Tyrion'), ('Baratheon', 'Joffrey'), ('Bolton', 'Ramsey'), ('Baelish', 'Peter')]\n",
        "first_names = [i[1] for i in people]\n",
        "print(first_name)"
      ],
      "metadata": {
        "colab": {
          "base_uri": "https://localhost:8080/"
        },
        "id": "u3e3-6oFSQnF",
        "outputId": "bec9572e-dbf7-43e6-9487-21141064b6c0"
      },
      "execution_count": null,
      "outputs": [
        {
          "output_type": "stream",
          "name": "stdout",
          "text": [
            "['Snow', 'Lannister', 'Stark', 'Stark', 'Lannister', 'Targaryen', 'Stark', 'Tyrell', 'Stark', 'Lannister', 'Baratheon', 'Bolton', 'Baelish']\n"
          ]
        }
      ]
    },
    {
      "cell_type": "code",
      "source": [
        "def keep_even(nums):\n",
        "  new_list = [num for num in nums if num%2==0]\n",
        "  return new_list"
      ],
      "metadata": {
        "id": "53C22kQrTP_q"
      },
      "execution_count": null,
      "outputs": []
    },
    {
      "cell_type": "code",
      "source": [
        "print(keep_even([2,5,6,8,9]))"
      ],
      "metadata": {
        "colab": {
          "base_uri": "https://localhost:8080/"
        },
        "id": "BHotbUNTIBIg",
        "outputId": "58914816-1f01-4616-df8d-c5e8ad225255"
      },
      "execution_count": null,
      "outputs": [
        {
          "output_type": "stream",
          "name": "stdout",
          "text": [
            "[2, 6, 8]\n"
          ]
        }
      ]
    },
    {
      "cell_type": "code",
      "source": [
        "def longlenghts(strings):\n",
        "  new =  [i for i in strings if len(i)>=4]\n",
        "  return new"
      ],
      "metadata": {
        "id": "Ekp4lkc0IBLf"
      },
      "execution_count": null,
      "outputs": []
    },
    {
      "cell_type": "code",
      "source": [
        "print(longlenghts([\"a\",\"ab\",\"klmno\",\"teena\"]))"
      ],
      "metadata": {
        "colab": {
          "base_uri": "https://localhost:8080/"
        },
        "id": "MQfyyzL1IBPm",
        "outputId": "9e3a05bc-d989-4f57-bd67-66b9e6126560"
      },
      "execution_count": null,
      "outputs": [
        {
          "output_type": "stream",
          "name": "stdout",
          "text": [
            "['klmno', 'teena']\n"
          ]
        }
      ]
    },
    {
      "cell_type": "code",
      "source": [
        "lst = [[\"hi\", \"bye\"], \"hello\", \"goodbye\", [9, 2], 4]\n",
        "lst2 = [i*2 for i in lst]\n",
        "print(lst2)"
      ],
      "metadata": {
        "colab": {
          "base_uri": "https://localhost:8080/"
        },
        "id": "IDHyc7JSIBTB",
        "outputId": "ae7d91a4-c8af-4df0-990d-0624b2273862"
      },
      "execution_count": null,
      "outputs": [
        {
          "output_type": "stream",
          "name": "stdout",
          "text": [
            "[['hi', 'bye', 'hi', 'bye'], 'hellohello', 'goodbyegoodbye', [9, 2, 9, 2], 8]\n"
          ]
        }
      ]
    },
    {
      "cell_type": "code",
      "source": [
        "lst = [\"hi\", \"bye\"]"
      ],
      "metadata": {
        "id": "OjF5VXOtUD3a"
      },
      "execution_count": null,
      "outputs": []
    },
    {
      "cell_type": "code",
      "source": [
        "lst*2"
      ],
      "metadata": {
        "colab": {
          "base_uri": "https://localhost:8080/"
        },
        "id": "r1D9pYW0UuFA",
        "outputId": "699c94cb-819e-4e53-c1a2-1104c2265cb8"
      },
      "execution_count": null,
      "outputs": [
        {
          "output_type": "execute_result",
          "data": {
            "text/plain": [
              "['hi', 'bye', 'hi', 'bye']"
            ]
          },
          "metadata": {},
          "execution_count": 38
        }
      ]
    },
    {
      "cell_type": "code",
      "source": [
        "students = [('Tommy', 95), ('Linda', 63), ('Carl', 70), ('Bob', 100), ('Raymond', 50), ('Sue', 75)]\n",
        "passed = [i for i,j in students if j>=70 ]\n",
        "print(passed)"
      ],
      "metadata": {
        "colab": {
          "base_uri": "https://localhost:8080/"
        },
        "id": "ah37ZUMqUvLq",
        "outputId": "a47e8388-e378-4a63-88d3-6c5c3eb977cd"
      },
      "execution_count": null,
      "outputs": [
        {
          "output_type": "stream",
          "name": "stdout",
          "text": [
            "['Tommy', 'Carl', 'Bob', 'Sue']\n"
          ]
        }
      ]
    },
    {
      "cell_type": "code",
      "source": [
        "l1 = ['left', 'up', 'front']\n",
        "l2 = ['right', 'down', 'back']\n",
        "opposites = [(x1,x2) for x1,x2 in list(zip(l1,l2)) if len(x1)>3 and len(x2)>3]\n",
        "print(opposites)"
      ],
      "metadata": {
        "id": "_acuhTB7VRFM"
      },
      "execution_count": null,
      "outputs": []
    },
    {
      "cell_type": "code",
      "source": [
        "print(opposites)"
      ],
      "metadata": {
        "colab": {
          "base_uri": "https://localhost:8080/"
        },
        "id": "J_GwsRq9V_9k",
        "outputId": "2bb2d0d5-3a9b-4631-8aad-2316562f673e"
      },
      "execution_count": null,
      "outputs": [
        {
          "output_type": "stream",
          "name": "stdout",
          "text": [
            "[('left', 'right'), ('front', 'back')]\n"
          ]
        }
      ]
    },
    {
      "cell_type": "code",
      "source": [
        "species = ['golden retriever', 'white tailed deer', 'black rhino', 'brown squirrel', 'field mouse', 'orangutan', 'sumatran elephant', 'rainbow trout', 'black bear', 'blue whale', 'water moccasin', 'giant panda', 'green turtle', 'blue jay', 'japanese beetle']\n",
        "population = [10000, 90000, 1000, 2000000, 500000, 500, 1200, 8000, 12000, 2300, 7500, 100, 1800, 9500, 125000]\n",
        "pop_info = [(x1,x2)for x1,x2 in list(zip(species,population))]\n",
        "endangered = [i for i,j in pop_info if j<2500]\n",
        "print(endangered)"
      ],
      "metadata": {
        "colab": {
          "base_uri": "https://localhost:8080/"
        },
        "id": "DqHjCPgHWCH0",
        "outputId": "4e823b00-84a8-4793-88a5-6d9a441fcb96"
      },
      "execution_count": null,
      "outputs": [
        {
          "output_type": "stream",
          "name": "stdout",
          "text": [
            "[('golden retriever', 10000), ('white tailed deer', 90000), ('black rhino', 1000), ('brown squirrel', 2000000), ('field mouse', 500000), ('orangutan', 500), ('sumatran elephant', 1200), ('rainbow trout', 8000), ('black bear', 12000), ('blue whale', 2300), ('water moccasin', 7500), ('giant panda', 100), ('green turtle', 1800), ('blue jay', 9500), ('japanese beetle', 125000)]\n",
            "['black rhino', 'orangutan', 'sumatran elephant', 'blue whale', 'giant panda', 'green turtle']\n"
          ]
        }
      ]
    },
    {
      "cell_type": "code",
      "source": [
        "\n",
        "lst_check = ['plums', 'watermelon', 'kiwi', 'strawberries', 'blueberries', 'peaches', 'apples', 'mangos', 'papaya']\n",
        "map_testing = list(map(lambda x:\"fruit:\"+x,lst_check))\n",
        "print(map_testing)\n"
      ],
      "metadata": {
        "colab": {
          "base_uri": "https://localhost:8080/"
        },
        "id": "HJHdNKhaW-Vi",
        "outputId": "bd67fd13-ce29-438b-ab8a-0fcfa4d1f285"
      },
      "execution_count": null,
      "outputs": [
        {
          "output_type": "stream",
          "name": "stdout",
          "text": [
            "['fruit:plums', 'fruit:watermelon', 'fruit:kiwi', 'fruit:strawberries', 'fruit:blueberries', 'fruit:peaches', 'fruit:apples', 'fruit:mangos', 'fruit:papaya']\n"
          ]
        }
      ]
    },
    {
      "cell_type": "code",
      "source": [
        ""
      ],
      "metadata": {
        "id": "KhvfsWgvX9bF"
      },
      "execution_count": null,
      "outputs": []
    }
  ]
}