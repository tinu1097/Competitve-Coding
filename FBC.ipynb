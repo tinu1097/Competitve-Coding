{
  "nbformat": 4,
  "nbformat_minor": 0,
  "metadata": {
    "colab": {
      "name": "FBC.ipynb",
      "provenance": [],
      "authorship_tag": "ABX9TyPP00U5Q3yPlQohrIWvgcqj",
      "include_colab_link": true
    },
    "kernelspec": {
      "name": "python3",
      "display_name": "Python 3"
    },
    "language_info": {
      "name": "python"
    }
  },
  "cells": [
    {
      "cell_type": "markdown",
      "metadata": {
        "id": "view-in-github",
        "colab_type": "text"
      },
      "source": [
        "<a href=\"https://colab.research.google.com/github/tinu1097/Competitve-Coding/blob/main/FBC.ipynb\" target=\"_parent\"><img src=\"https://colab.research.google.com/assets/colab-badge.svg\" alt=\"Open In Colab\"/></a>"
      ]
    },
    {
      "cell_type": "markdown",
      "source": [
        "Chef has a bucket having a capacity of K liters. It is already filled with X liters of water.\n",
        "\n",
        "Find the maximum amount of extra water in liters that Chef can fill in the bucket without overflowing.\n",
        "\n",
        "Input Format\n",
        "The first line will contain T - the number of test cases. Then the test cases follow.\n",
        "The first and only line of each test case contains two space separated integers K and X - as mentioned in the problem.\n",
        "Output Format\n",
        "For each test case, output in a single line, the amount of extra water in liters that Chef can fill in the bucket without overflowing.\n",
        "\n",
        "Constraints\n",
        "1≤T≤100\n",
        "1≤X<K≤1000\n",
        "Sample Input 1 \n",
        "2\n",
        "5 4\n",
        "15 6\n",
        "Sample Output 1 \n",
        "1\n",
        "9\n",
        "Explanation\n",
        "Test Case 1: The capacity of the bucket is 5 liters but it is already filled with 4 liters of water. Adding 1 more liter of water to the bucket fills it to (4+1)=5 liters. If we try to fill more water, it will overflow.\n",
        "\n",
        "Test Case 2: The capacity of the bucket is 15 liters but it is already filled with 6 liters of water. Adding 9 more liters of water to the bucket fills it to (6+9)=15 liters. If we try to fill more water, it will overflow."
      ],
      "metadata": {
        "id": "y4ueB4GlQ8tW"
      }
    },
    {
      "cell_type": "code",
      "source": [
        "n = int(input())\n",
        "for i in range(n):\n",
        "    m = list(map(int,input().split(\" \")))\n",
        "    if m[0]>m[1]:\n",
        "      print(m[0]-m[1])"
      ],
      "metadata": {
        "colab": {
          "base_uri": "https://localhost:8080/"
        },
        "id": "piyxTqNiP_oD",
        "outputId": "93a87fa0-7391-4d40-d91f-3e7c32e0be35"
      },
      "execution_count": 3,
      "outputs": [
        {
          "output_type": "stream",
          "name": "stdout",
          "text": [
            "2\n",
            "5 4\n",
            "1\n",
            "15 9\n",
            "6\n"
          ]
        }
      ]
    },
    {
      "cell_type": "code",
      "source": [
        ""
      ],
      "metadata": {
        "id": "T31Dv5W6P_rv"
      },
      "execution_count": null,
      "outputs": []
    },
    {
      "cell_type": "code",
      "source": [
        ""
      ],
      "metadata": {
        "id": "u3TLI2TKP_uh"
      },
      "execution_count": null,
      "outputs": []
    }
  ]
}