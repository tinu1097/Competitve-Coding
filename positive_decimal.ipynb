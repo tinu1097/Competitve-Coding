{
 "cells": [
  {
   "cell_type": "code",
   "execution_count": null,
   "metadata": {},
   "outputs": [],
   "source": [
    "s = int(input())\n",
    "l = list(map(int,input().split()))\n",
    "m = len(l)\n",
    "c = 0\n",
    "d = 0\n",
    "e = 0\n",
    "for i in range(len(l)):\n",
    "    if l[i]<0:\n",
    "        c+=1\n",
    "    elif l[i]>0:\n",
    "        d+=1\n",
    "    else:\n",
    "        e+=1\n",
    "x = d/m\n",
    "y = c/m\n",
    "z = e/m\n",
    "print(\"%.6f\" %x)\n",
    "print(\"%.6f\"%y)\n",
    "print(\"%.6f\"%z)"
   ]
  }
 ],
 "metadata": {
  "kernelspec": {
   "display_name": "Python 3",
   "language": "python",
   "name": "python3"
  },
  "language_info": {
   "codemirror_mode": {
    "name": "ipython",
    "version": 3
   },
   "file_extension": ".py",
   "mimetype": "text/x-python",
   "name": "python",
   "nbconvert_exporter": "python",
   "pygments_lexer": "ipython3",
   "version": "3.7.4"
  }
 },
 "nbformat": 4,
 "nbformat_minor": 2
}
