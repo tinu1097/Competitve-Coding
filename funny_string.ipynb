{
 "cells": [
  {
   "cell_type": "code",
   "execution_count": null,
   "metadata": {},
   "outputs": [],
   "source": [
    "j = int(input())\n",
    "for k in range(j):\n",
    "    s=input()\n",
    "    x = []\n",
    "    c = []\n",
    "    d = []\n",
    "    for i in range(len(list(s))):\n",
    "        x.append(ord(s[i]))\n",
    "        y = x[::-1]\n",
    "    for j in range(1,len(x)):\n",
    "        c.append(abs(x[j]-x[j-1]))\n",
    "    for m in range(1,len(y)):\n",
    "        d.append(abs(y[m-1]-y[m]))\n",
    "    if c==d:\n",
    "        print(\"funny\")\n",
    "    else:\n",
    "        print(\"not funny\") "
   ]
  }
 ],
 "metadata": {
  "kernelspec": {
   "display_name": "Python 3",
   "language": "python",
   "name": "python3"
  },
  "language_info": {
   "codemirror_mode": {
    "name": "ipython",
    "version": 3
   },
   "file_extension": ".py",
   "mimetype": "text/x-python",
   "name": "python",
   "nbconvert_exporter": "python",
   "pygments_lexer": "ipython3",
   "version": "3.7.4"
  }
 },
 "nbformat": 4,
 "nbformat_minor": 2
}
