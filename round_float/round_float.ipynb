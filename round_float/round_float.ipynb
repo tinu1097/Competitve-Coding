{
 "cells": [
  {
   "cell_type": "code",
   "execution_count": 1,
   "metadata": {},
   "outputs": [],
   "source": [
    "import math"
   ]
  },
  {
   "cell_type": "code",
   "execution_count": 5,
   "metadata": {},
   "outputs": [
    {
     "name": "stdout",
     "output_type": "stream",
     "text": [
      "12.00\n",
      "20\n",
      "8\n",
      "15\n"
     ]
    }
   ],
   "source": [
    "x = float(input())\n",
    "y = float(input())\n",
    "z = float(input())\n",
    "t = ((x*y)/100)\n",
    "s = ((x*z)/100)\n",
    "print(round((x+t+s)))"
   ]
  },
  {
   "cell_type": "code",
   "execution_count": 7,
   "metadata": {},
   "outputs": [
    {
     "name": "stdout",
     "output_type": "stream",
     "text": [
      "12.00\n",
      "20\n",
      "8\n",
      "15\n"
     ]
    }
   ],
   "source": [
    "def solve(meal_cost, tip_percent, tax_percent):\n",
    "    t = ((meal_cost*tip_percent)/100)\n",
    "    s = ((meal_cost*tax_percent)/100)\n",
    "    total = round(meal_cost+t+s)\n",
    "    print(total)\n",
    "\n",
    "if __name__ == '__main__':\n",
    "    meal_cost = float(input().strip())\n",
    "\n",
    "    tip_percent = int(input().strip())\n",
    "\n",
    "    tax_percent = int(input().strip())\n",
    "\n",
    "    solve(meal_cost, tip_percent, tax_percent)"
   ]
  },
  {
   "cell_type": "code",
   "execution_count": null,
   "metadata": {},
   "outputs": [],
   "source": []
  }
 ],
 "metadata": {
  "kernelspec": {
   "display_name": "Python 3",
   "language": "python",
   "name": "python3"
  },
  "language_info": {
   "codemirror_mode": {
    "name": "ipython",
    "version": 3
   },
   "file_extension": ".py",
   "mimetype": "text/x-python",
   "name": "python",
   "nbconvert_exporter": "python",
   "pygments_lexer": "ipython3",
   "version": "3.7.4"
  }
 },
 "nbformat": 4,
 "nbformat_minor": 2
}
