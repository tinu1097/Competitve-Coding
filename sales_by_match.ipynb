{
  "nbformat": 4,
  "nbformat_minor": 0,
  "metadata": {
    "colab": {
      "name": "sales_by match.ipynb",
      "provenance": [],
      "collapsed_sections": [],
      "authorship_tag": "ABX9TyO6fBsrLPtxsxUwPIh324UI",
      "include_colab_link": true
    },
    "kernelspec": {
      "name": "python3",
      "display_name": "Python 3"
    },
    "language_info": {
      "name": "python"
    }
  },
  "cells": [
    {
      "cell_type": "markdown",
      "metadata": {
        "id": "view-in-github",
        "colab_type": "text"
      },
      "source": [
        "<a href=\"https://colab.research.google.com/github/tinu1097/Competitve-Coding/blob/main/sales_by_match.ipynb\" target=\"_parent\"><img src=\"https://colab.research.google.com/assets/colab-badge.svg\" alt=\"Open In Colab\"/></a>"
      ]
    },
    {
      "cell_type": "code",
      "execution_count": null,
      "metadata": {
        "id": "oxVE_Wv0fCax"
      },
      "outputs": [],
      "source": [
        "from collections import Counter\n",
        "n = int(input())\n",
        "x = Counter(list(map(int,input().split(\" \"))))\n",
        "y =0\n",
        "for i in x:\n",
        "  y = y+x[i]//2\n",
        "print(y)"
      ]
    }
  ]
}