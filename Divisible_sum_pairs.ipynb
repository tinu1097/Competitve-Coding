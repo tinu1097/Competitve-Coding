{
  "nbformat": 4,
  "nbformat_minor": 0,
  "metadata": {
    "colab": {
      "name": "Divisible_sum_pairs.ipynb",
      "provenance": [],
      "collapsed_sections": [],
      "authorship_tag": "ABX9TyPHjTmfId1FzRmffhW3GLRM",
      "include_colab_link": true
    },
    "kernelspec": {
      "name": "python3",
      "display_name": "Python 3"
    },
    "language_info": {
      "name": "python"
    }
  },
  "cells": [
    {
      "cell_type": "markdown",
      "metadata": {
        "id": "view-in-github",
        "colab_type": "text"
      },
      "source": [
        "<a href=\"https://colab.research.google.com/github/tinu1097/Competitve-Coding/blob/main/Divisible_sum_pairs.ipynb\" target=\"_parent\"><img src=\"https://colab.research.google.com/assets/colab-badge.svg\" alt=\"Open In Colab\"/></a>"
      ]
    },
    {
      "cell_type": "code",
      "execution_count": 1,
      "metadata": {
        "colab": {
          "base_uri": "https://localhost:8080/"
        },
        "id": "8VNgkioltiB2",
        "outputId": "a02d5ba0-12a5-4e22-a9ba-b6ef73f57930"
      },
      "outputs": [
        {
          "output_type": "stream",
          "name": "stdout",
          "text": [
            "6 3\n",
            "1 3 2 6 1 2\n",
            "5\n"
          ]
        }
      ],
      "source": [
        "n,k = list(map(int,input().split(\" \")))\n",
        "a = list(map(int,input().split(\" \")))\n",
        "y = 0\n",
        "if len(a)==n:\n",
        "  for i in range(len(a)):\n",
        "    for j in range(i+1,len(a)):\n",
        "      if ((a[i]+a[j])%k==0):\n",
        "        y = y+1\n",
        "print(y)"
      ]
    }
  ]
}