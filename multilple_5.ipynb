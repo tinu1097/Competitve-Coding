{
  "nbformat": 4,
  "nbformat_minor": 0,
  "metadata": {
    "colab": {
      "name": "multilple 5.ipynb",
      "provenance": [],
      "authorship_tag": "ABX9TyOkmtM3aFISnhAVjyNY4gWB",
      "include_colab_link": true
    },
    "kernelspec": {
      "name": "python3",
      "display_name": "Python 3"
    },
    "language_info": {
      "name": "python"
    }
  },
  "cells": [
    {
      "cell_type": "markdown",
      "metadata": {
        "id": "view-in-github",
        "colab_type": "text"
      },
      "source": [
        "<a href=\"https://colab.research.google.com/github/tinu1097/Competitve-Coding/blob/main/multilple_5.ipynb\" target=\"_parent\"><img src=\"https://colab.research.google.com/assets/colab-badge.svg\" alt=\"Open In Colab\"/></a>"
      ]
    },
    {
      "cell_type": "code",
      "source": [
        "n = int(input())\n",
        "for i in range(n):\n",
        "  m = int(input())\n",
        "  x = m%5\n",
        "  z = 5-x\n",
        "  m1 = m+z\n",
        "  if (m1==40 or m1>40):\n",
        "    if (m1-m<3):\n",
        "        print(m1)\n",
        "    else:\n",
        "      print(m)\n",
        "  else:\n",
        "    print(m)"
      ],
      "metadata": {
        "colab": {
          "base_uri": "https://localhost:8080/"
        },
        "id": "LBdNwT6bvfqj",
        "outputId": "e62c5081-ec29-4a5c-a993-8ded1ef7b3fa"
      },
      "execution_count": 28,
      "outputs": [
        {
          "output_type": "stream",
          "name": "stdout",
          "text": [
            "3\n",
            "25\n",
            "25\n",
            "26\n",
            "26\n",
            "76\n",
            "76\n"
          ]
        }
      ]
    }
  ]
}