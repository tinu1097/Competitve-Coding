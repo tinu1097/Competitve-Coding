{
 "cells": [
  {
   "cell_type": "code",
   "execution_count": 10,
   "metadata": {},
   "outputs": [
    {
     "name": "stdout",
     "output_type": "stream",
     "text": [
      "12\n",
      "16\n",
      "4.0\n",
      "8.0\n",
      "\"is the best place to learn and practice coding!\"\n",
      "HackerRank \"is the best place to learn and practice coding!\"\n"
     ]
    }
   ],
   "source": [
    "i= 4\n",
    "d = 4.0\n",
    "s = 'HackerRank '\n",
    "print(int(input())+i)\n",
    "print(\"{:.1f}\".format(float(input())+d))\n",
    "print(s+input())"
   ]
  },
  {
   "cell_type": "code",
   "execution_count": null,
   "metadata": {},
   "outputs": [],
   "source": []
  }
 ],
 "metadata": {
  "kernelspec": {
   "display_name": "Python 3",
   "language": "python",
   "name": "python3"
  },
  "language_info": {
   "codemirror_mode": {
    "name": "ipython",
    "version": 3
   },
   "file_extension": ".py",
   "mimetype": "text/x-python",
   "name": "python",
   "nbconvert_exporter": "python",
   "pygments_lexer": "ipython3",
   "version": "3.7.4"
  }
 },
 "nbformat": 4,
 "nbformat_minor": 2
}
