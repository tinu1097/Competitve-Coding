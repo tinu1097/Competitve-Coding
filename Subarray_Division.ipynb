{
  "nbformat": 4,
  "nbformat_minor": 0,
  "metadata": {
    "colab": {
      "name": "Subarray Division.ipynb",
      "provenance": [],
      "collapsed_sections": [],
      "authorship_tag": "ABX9TyOQZ4swkIswgfouw73F5gn7",
      "include_colab_link": true
    },
    "kernelspec": {
      "name": "python3",
      "display_name": "Python 3"
    },
    "language_info": {
      "name": "python"
    }
  },
  "cells": [
    {
      "cell_type": "markdown",
      "metadata": {
        "id": "view-in-github",
        "colab_type": "text"
      },
      "source": [
        "<a href=\"https://colab.research.google.com/github/tinu1097/Competitve-Coding/blob/main/Subarray_Division.ipynb\" target=\"_parent\"><img src=\"https://colab.research.google.com/assets/colab-badge.svg\" alt=\"Open In Colab\"/></a>"
      ]
    },
    {
      "cell_type": "code",
      "execution_count": 45,
      "metadata": {
        "colab": {
          "base_uri": "https://localhost:8080/"
        },
        "id": "HTWQmJwKgYXy",
        "outputId": "878e1802-3abe-44c4-aa52-a851e01a8721"
      },
      "outputs": [
        {
          "output_type": "stream",
          "name": "stdout",
          "text": [
            "6\n",
            "1 1 1 1 1 1\n",
            "3 2\n",
            "0\n"
          ]
        }
      ],
      "source": [
        "n = int(input())\n",
        "a = list(map(int,input().split(\" \")))\n",
        "d,m = list(map(int,input().split(\" \")))\n",
        "z = 0\n",
        "for i in range(m,n+1):\n",
        "    if sum(a[i-m:i])==d:\n",
        "      z = z+1\n",
        "print(z)"
      ]
    }
  ]
}