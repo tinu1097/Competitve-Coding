{
 "cells": [
  {
   "cell_type": "code",
   "execution_count": 36,
   "metadata": {},
   "outputs": [
    {
     "name": "stdout",
     "output_type": "stream",
     "text": [
      "[[1, 2, 3], [4, 5, 6], [9, 8, 9]]\n",
      "2\n"
     ]
    }
   ],
   "source": [
    "import numpy as np\n",
    "m = int(input())\n",
    "y = []\n",
    "for i in range(m):\n",
    "    x = list(map(int,input().split(\" \")))\n",
    "    y.append(x)\n",
    "z = np.array(y)\n",
    "print(z)\n",
    "c = 0\n",
    "d = 0\n",
    "for i in range(0,len(z)):\n",
    "    c = c + z[i][i]\n",
    "    d = d + z[i][m-i-1]\n",
    "print(abs(c-d))"
   ]
  },
  {
   "cell_type": "code",
   "execution_count": 37,
   "metadata": {},
   "outputs": [
    {
     "name": "stdout",
     "output_type": "stream",
     "text": [
      "2\n"
     ]
    }
   ],
   "source": [
    "m = int(input())\n",
    "y = []\n",
    "for i in range(m):\n",
    "    x = list(map(int,input().split(\" \")))\n",
    "    y.append(x)\n",
    "c = 0\n",
    "d = 0\n",
    "for i in range(0,len(y)):\n",
    "    c = c + y[i][i]\n",
    "    d = d + y[i][m-i-1]\n",
    "print(abs(c-d))"
   ]
  }
 ],
 "metadata": {
  "interpreter": {
   "hash": "07efdcd4b820c98a756949507a4d29d7862823915ec7477944641bea022f4f62"
  },
  "kernelspec": {
   "display_name": "Python 3.7.4 ('base')",
   "language": "python",
   "name": "python3"
  },
  "language_info": {
   "codemirror_mode": {
    "name": "ipython",
    "version": 3
   },
   "file_extension": ".py",
   "mimetype": "text/x-python",
   "name": "python",
   "nbconvert_exporter": "python",
   "pygments_lexer": "ipython3",
   "version": "3.7.4"
  },
  "orig_nbformat": 4
 },
 "nbformat": 4,
 "nbformat_minor": 2
}
