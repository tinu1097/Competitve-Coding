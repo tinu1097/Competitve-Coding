{
 "cells": [
  {
   "cell_type": "code",
   "execution_count": 1,
   "metadata": {},
   "outputs": [
    {
     "name": "stdout",
     "output_type": "stream",
     "text": [
      "0.500000\n",
      "0.333333\n",
      "0.166667\n"
     ]
    }
   ],
   "source": [
    "n = int(input())\n",
    "m = list(map(int,input().split(\" \")))\n",
    "x = 0\n",
    "y = 0\n",
    "z = 0\n",
    "if len(m)==n:\n",
    "  for i in m:\n",
    "    if i>0:\n",
    "      x = x+1\n",
    "    elif i<0:\n",
    "      y = y+1\n",
    "    else:\n",
    "      z = z+1\n",
    "print(\"{:.6f}\".format(x/len(m)))\n",
    "print(\"{:.6f}\".format(y/len(m)))\n",
    "print(\"{:.6f}\".format(z/len(m))) "
   ]
  }
 ],
 "metadata": {
  "interpreter": {
   "hash": "07efdcd4b820c98a756949507a4d29d7862823915ec7477944641bea022f4f62"
  },
  "kernelspec": {
   "display_name": "Python 3.7.4 ('base')",
   "language": "python",
   "name": "python3"
  },
  "language_info": {
   "codemirror_mode": {
    "name": "ipython",
    "version": 3
   },
   "file_extension": ".py",
   "mimetype": "text/x-python",
   "name": "python",
   "nbconvert_exporter": "python",
   "pygments_lexer": "ipython3",
   "version": "3.7.4"
  },
  "orig_nbformat": 4
 },
 "nbformat": 4,
 "nbformat_minor": 2
}
