{
 "cells": [
  {
   "cell_type": "code",
   "execution_count": 34,
   "metadata": {},
   "outputs": [
    {
     "name": "stdout",
     "output_type": "stream",
     "text": [
      "9\n"
     ]
    }
   ],
   "source": [
    "x,y,z = list(map(int,input().split(\" \")))\n",
    "c = list(map(int,input().split(\" \")))\n",
    "d = list(map(int,input().split(\" \")))\n",
    "v = []\n",
    "for i in c:\n",
    "    for j in d:\n",
    "        if (i+j<x) or (i+j==x):\n",
    "            v.append(i+j)\n",
    "if not v:\n",
    "    print(\"-1\")\n",
    "else:\n",
    "    print(max(v))\n",
    "            \n"
   ]
  }
 ],
 "metadata": {
  "interpreter": {
   "hash": "07efdcd4b820c98a756949507a4d29d7862823915ec7477944641bea022f4f62"
  },
  "kernelspec": {
   "display_name": "Python 3.7.4 ('base')",
   "language": "python",
   "name": "python3"
  },
  "language_info": {
   "codemirror_mode": {
    "name": "ipython",
    "version": 3
   },
   "file_extension": ".py",
   "mimetype": "text/x-python",
   "name": "python",
   "nbconvert_exporter": "python",
   "pygments_lexer": "ipython3",
   "version": "3.7.4"
  },
  "orig_nbformat": 4
 },
 "nbformat": 4,
 "nbformat_minor": 2
}
