{
  "nbformat": 4,
  "nbformat_minor": 0,
  "metadata": {
    "colab": {
      "name": "Dictionary_course_2_assessment_3.ipynb",
      "provenance": [],
      "collapsed_sections": [],
      "authorship_tag": "ABX9TyN4W1wV5NGeJn8fWIdAFJGs",
      "include_colab_link": true
    },
    "kernelspec": {
      "name": "python3",
      "display_name": "Python 3"
    },
    "language_info": {
      "name": "python"
    }
  },
  "cells": [
    {
      "cell_type": "markdown",
      "metadata": {
        "id": "view-in-github",
        "colab_type": "text"
      },
      "source": [
        "<a href=\"https://colab.research.google.com/github/tinu1097/Competitve-Coding/blob/main/Dictionary_course_2_assessment_3.ipynb\" target=\"_parent\"><img src=\"https://colab.research.google.com/assets/colab-badge.svg\" alt=\"Open In Colab\"/></a>"
      ]
    },
    {
      "cell_type": "markdown",
      "source": [
        "The dictionary Junior shows a schedule for a junior year semester. The key is the course name and the value is the number of credits. Find the total number of credits taken this semester and assign it to the variable credits. Do not hardcode this – use dictionary accumulation!"
      ],
      "metadata": {
        "id": "M2CzcPRFmixV"
      }
    },
    {
      "cell_type": "code",
      "source": [
        "Junior = {'SI 206':4, 'SI 310':4, 'BL 300':3, 'TO 313':3, 'BCOM 350':1, 'MO 300':3}\n",
        "credits = 0\n",
        "for i in Junior.values():\n",
        "    credits+=i\n",
        "print(credits)"
      ],
      "metadata": {
        "colab": {
          "base_uri": "https://localhost:8080/"
        },
        "id": "PARY63-ymphN",
        "outputId": "d641648a-db88-455d-ad01-d163b48695b7"
      },
      "execution_count": 1,
      "outputs": [
        {
          "output_type": "stream",
          "name": "stdout",
          "text": [
            "18\n"
          ]
        }
      ]
    },
    {
      "cell_type": "markdown",
      "source": [
        "Create a dictionary, freq, that displays each character in string str1 as the key and its frequency as the value."
      ],
      "metadata": {
        "id": "0negeLKdmq5y"
      }
    },
    {
      "cell_type": "code",
      "source": [
        "str1 = \"peter piper picked a peck of pickled peppers\"\n",
        "freq = dict()\n",
        "for i in str1:\n",
        "    if i in freq:\n",
        "        freq[i]+=1\n",
        "    else:\n",
        "        freq[i]=1\n",
        "print(freq)"
      ],
      "metadata": {
        "colab": {
          "base_uri": "https://localhost:8080/"
        },
        "id": "WHcOlcvUmvme",
        "outputId": "8d56c8e7-c2fe-4fd7-a44f-7ee5a9d6c06e"
      },
      "execution_count": 2,
      "outputs": [
        {
          "output_type": "stream",
          "name": "stdout",
          "text": [
            "{'p': 9, 'e': 8, 't': 1, 'r': 3, ' ': 7, 'i': 3, 'c': 3, 'k': 3, 'd': 2, 'a': 1, 'o': 1, 'f': 1, 'l': 1, 's': 1}\n"
          ]
        }
      ]
    },
    {
      "cell_type": "markdown",
      "source": [
        "Provided is a string saved to the variable name s1. Create a dictionary named counts that contains each letter in s1 and the number of times it occurs."
      ],
      "metadata": {
        "id": "rPZvMCSvmxN1"
      }
    },
    {
      "cell_type": "code",
      "source": [
        "s1 = \"hello\"\n",
        "counts = dict()\n",
        "for i in s1:\n",
        "    if i in counts:\n",
        "        counts[i]+=1\n",
        "    else:\n",
        "        counts[i]=1\n",
        "print(counts)"
      ],
      "metadata": {
        "colab": {
          "base_uri": "https://localhost:8080/"
        },
        "id": "70Cpyby4m093",
        "outputId": "2f795a93-6cf9-4ac0-b925-7e20ba1e7d42"
      },
      "execution_count": 3,
      "outputs": [
        {
          "output_type": "stream",
          "name": "stdout",
          "text": [
            "{'h': 1, 'e': 1, 'l': 2, 'o': 1}\n"
          ]
        }
      ]
    },
    {
      "cell_type": "markdown",
      "source": [
        "Create a dictionary, freq_words, that contains each word in string str1 as the key and its frequency as the value."
      ],
      "metadata": {
        "id": "NBowucOXm247"
      }
    },
    {
      "cell_type": "code",
      "source": [
        "str1= \"I wish I wish with all my heart to fly with dragons in a land apart\"\n",
        "str1 = str1.split()\n",
        "freq_words=dict()\n",
        "for i in str1:\n",
        "    if i in freq_words:\n",
        "        freq_words[i]+=1\n",
        "    else:\n",
        "        freq_words[i]=1\n",
        "print(freq_words)"
      ],
      "metadata": {
        "colab": {
          "base_uri": "https://localhost:8080/"
        },
        "id": "mRm6muXFm4ZA",
        "outputId": "27071f43-bf31-414c-8586-6df32acaecbf"
      },
      "execution_count": 4,
      "outputs": [
        {
          "output_type": "stream",
          "name": "stdout",
          "text": [
            "{'I': 2, 'wish': 2, 'with': 2, 'all': 1, 'my': 1, 'heart': 1, 'to': 1, 'fly': 1, 'dragons': 1, 'in': 1, 'a': 1, 'land': 1, 'apart': 1}\n"
          ]
        }
      ]
    },
    {
      "cell_type": "markdown",
      "source": [
        "Create a dictionary called wrd_d from the string sent, so that the key is a word and the value is how many times you have seen that word"
      ],
      "metadata": {
        "id": "JC9-qT96m66C"
      }
    },
    {
      "cell_type": "code",
      "source": [
        "sent = \"Singing in the rain and playing in the rain are two entirely different situations but both can be good\"\n",
        "sent = sent.split()\n",
        "wrd_d=dict()\n",
        "for i in sent:\n",
        "    if i in wrd_d:\n",
        "        wrd_d[i]+=1\n",
        "    else:\n",
        "        wrd_d[i]=1\n",
        "print(wrd_d)"
      ],
      "metadata": {
        "colab": {
          "base_uri": "https://localhost:8080/"
        },
        "id": "Aa2g_E0Nm8u6",
        "outputId": "c3528197-0ba9-4fc4-978c-6ff4e6fd3288"
      },
      "execution_count": 5,
      "outputs": [
        {
          "output_type": "stream",
          "name": "stdout",
          "text": [
            "{'Singing': 1, 'in': 2, 'the': 2, 'rain': 2, 'and': 1, 'playing': 1, 'are': 1, 'two': 1, 'entirely': 1, 'different': 1, 'situations': 1, 'but': 1, 'both': 1, 'can': 1, 'be': 1, 'good': 1}\n"
          ]
        }
      ]
    },
    {
      "cell_type": "markdown",
      "source": [
        "Create the dictionary characters that shows each character from the string sally and its frequency. Then, find the most frequent letter based on the dictionary. Assign this letter to the variable best_char."
      ],
      "metadata": {
        "id": "bVQcROw-m97d"
      }
    },
    {
      "cell_type": "code",
      "source": [
        "sally = \"sally sells sea shells by the sea shore\"\n",
        "characters = dict()\n",
        "best_char=\"\"\n",
        "for i in sally:\n",
        "    if i in characters:\n",
        "        characters[i]+=1\n",
        "    else:\n",
        "        characters[i]=1\n",
        "x = sorted(characters.items(),key=lambda x:x[1],reverse=True)\n",
        "best_char+=x[0][0]\n",
        "print(best_char)"
      ],
      "metadata": {
        "colab": {
          "base_uri": "https://localhost:8080/"
        },
        "id": "qzMYNrNFm_uw",
        "outputId": "b086b957-8004-4508-caf0-f3369a2f5ecc"
      },
      "execution_count": 6,
      "outputs": [
        {
          "output_type": "stream",
          "name": "stdout",
          "text": [
            "s\n"
          ]
        }
      ]
    },
    {
      "cell_type": "markdown",
      "source": [
        "Find the least frequent letter. Create the dictionary characters that shows each character from string sally and its frequency. Then, find the least frequent letter in the string and assign the letter to the variable worst_char."
      ],
      "metadata": {
        "id": "ZyEjrT22nDhz"
      }
    },
    {
      "cell_type": "code",
      "source": [
        "sally = \"sally sells sea shells by the sea shore\"\n",
        "characters = dict()\n",
        "worst_char=\"\"\n",
        "for i in sally:\n",
        "    if i in characters:\n",
        "        characters[i]+=1\n",
        "    else:\n",
        "        characters[i]=1\n",
        "x = sorted(characters.items(),key=lambda x:x[1])\n",
        "worst_char+=x[0][0]\n",
        "print(worst_char)"
      ],
      "metadata": {
        "colab": {
          "base_uri": "https://localhost:8080/"
        },
        "id": "HG4Dmc0AnEIN",
        "outputId": "0191f93a-d07c-496e-93be-c912fbde7881"
      },
      "execution_count": 7,
      "outputs": [
        {
          "output_type": "stream",
          "name": "stdout",
          "text": [
            "b\n"
          ]
        }
      ]
    },
    {
      "cell_type": "code",
      "source": [
        "sally = \"sally sells sea shells by the sea shore and by the road\"\n",
        "\n",
        "characters = {}\n",
        "for i in sally:\n",
        "    characters[i]=characters.get(i,0)+1\n",
        "    \n",
        "sorted(characters.items(), key=lambda x: x[1])\n",
        "worst_char = sorted(characters.items(), key=lambda x: x[1])[-13][0]\n",
        "print(worst_char)"
      ],
      "metadata": {
        "colab": {
          "base_uri": "https://localhost:8080/"
        },
        "id": "ckXqKqlCov1h",
        "outputId": "52f4da77-aae9-4af5-b8d7-670dc6dc15a8"
      },
      "execution_count": 12,
      "outputs": [
        {
          "output_type": "stream",
          "name": "stdout",
          "text": [
            "n\n"
          ]
        }
      ]
    },
    {
      "cell_type": "markdown",
      "source": [
        "Create a dictionary named letter_counts that contains each letter and the number of times it occurs in string1. Challenge: Letters should not be counted separately as upper-case and lower-case. Intead, all of them should be counted as lower-case."
      ],
      "metadata": {
        "id": "mSr-EXCLnFcz"
      }
    },
    {
      "cell_type": "code",
      "source": [
        "string1 = \"There is a tide in the affairs of men, Which taken at the flood, leads on to fortune. Omitted, all the voyage of their life is bound in shallows and in miseries. On such a full sea are we now afloat. And we must take the current when it serves, or lose our ventures.\"\n",
        "string1 = string1.lower()\n",
        "letter_counts = dict()\n",
        "for i in string1:\n",
        "    if i in  letter_counts:\n",
        "         letter_counts[i]+=1\n",
        "    else:\n",
        "         letter_counts[i]=1\n",
        "print(letter_counts)"
      ],
      "metadata": {
        "colab": {
          "base_uri": "https://localhost:8080/"
        },
        "id": "huQZ0fWinIJQ",
        "outputId": "135e72ee-5b60-4d44-d9b4-fb3578fb81ed"
      },
      "execution_count": 8,
      "outputs": [
        {
          "output_type": "stream",
          "name": "stdout",
          "text": [
            "{'t': 19, 'h': 11, 'e': 29, 'r': 12, ' ': 53, 'i': 14, 's': 15, 'a': 17, 'd': 7, 'n': 15, 'f': 9, 'o': 17, 'm': 4, ',': 4, 'w': 6, 'c': 3, 'k': 2, 'l': 11, 'u': 8, '.': 4, 'v': 3, 'y': 1, 'g': 1, 'b': 1}\n"
          ]
        }
      ]
    },
    {
      "cell_type": "markdown",
      "source": [
        "Create a dictionary called low_d that keeps track of all the characters in the string p and notes how many times each character was seen. Make sure that there are no repeats of characters as keys, such that “T” and “t” are both seen as a “t” for example."
      ],
      "metadata": {
        "id": "T84O4CDXnMAT"
      }
    },
    {
      "cell_type": "code",
      "source": [
        "p = \"Summer is a great time to go outside. You have to be careful of the sun though because of the heat.\"\n",
        "p = p.lower()\n",
        "low_d = dict()\n",
        "for i in p:\n",
        "    if i in  low_d:\n",
        "         low_d[i]+=1\n",
        "    else:\n",
        "         low_d[i]=1\n",
        "print(low_d)"
      ],
      "metadata": {
        "colab": {
          "base_uri": "https://localhost:8080/"
        },
        "id": "puUWZSkXnMrf",
        "outputId": "04e1caac-4152-409e-e2dd-540f4bed8268"
      },
      "execution_count": 9,
      "outputs": [
        {
          "output_type": "stream",
          "name": "stdout",
          "text": [
            "{'s': 5, 'u': 7, 'm': 3, 'e': 12, 'r': 3, ' ': 20, 'i': 3, 'a': 6, 'g': 3, 't': 9, 'o': 8, 'd': 1, '.': 2, 'y': 1, 'h': 6, 'v': 1, 'b': 2, 'c': 2, 'f': 3, 'l': 1, 'n': 1}\n"
          ]
        }
      ]
    },
    {
      "cell_type": "code",
      "source": [
        "print(\"----- THANKYOU -------\")"
      ],
      "metadata": {
        "colab": {
          "base_uri": "https://localhost:8080/"
        },
        "id": "3TD3iq-Una7w",
        "outputId": "66734d13-9c75-4272-9b60-7ae2c15cb204"
      },
      "execution_count": 10,
      "outputs": [
        {
          "output_type": "stream",
          "name": "stdout",
          "text": [
            "-----THANKYOU-------\n"
          ]
        }
      ]
    }
  ]
}