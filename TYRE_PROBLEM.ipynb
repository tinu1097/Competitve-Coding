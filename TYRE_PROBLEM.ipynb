{
  "nbformat": 4,
  "nbformat_minor": 0,
  "metadata": {
    "colab": {
      "name": "TYRE PROBLEM.ipynb",
      "provenance": [],
      "authorship_tag": "ABX9TyNysT5ChQyRpwKK6jfIuGoM",
      "include_colab_link": true
    },
    "kernelspec": {
      "name": "python3",
      "display_name": "Python 3"
    },
    "language_info": {
      "name": "python"
    }
  },
  "cells": [
    {
      "cell_type": "markdown",
      "metadata": {
        "id": "view-in-github",
        "colab_type": "text"
      },
      "source": [
        "<a href=\"https://colab.research.google.com/github/tinu1097/Competitve-Coding/blob/main/TYRE_PROBLEM.ipynb\" target=\"_parent\"><img src=\"https://colab.research.google.com/assets/colab-badge.svg\" alt=\"Open In Colab\"/></a>"
      ]
    },
    {
      "cell_type": "markdown",
      "source": [
        "Tyre problem Problem Code: TYRE\n",
        "Add problem to Todo list\n",
        "Submit\n",
        "There are N bikes and M cars on the road.\n",
        "\n",
        "Each bike has 2 tyres.\n",
        "Each car has 4 tyres.\n",
        "Find the total number of tyres on the road.\n",
        "\n",
        "Input Format\n",
        "The first line will contain T - the number of test cases. Then the test cases follow.\n",
        "The first and only line of each test case contains two integers N,M.\n",
        "Output Format\n",
        "For each test case, output in a single line, the total number of tyres on the road.\n",
        "\n",
        "Constraints\n",
        "1≤T≤1000\n",
        "0≤N,M≤100\n",
        "Sample Input 1 \n",
        "2\n",
        "2 1\n",
        "3 0\n",
        "8\n",
        "6\n"
      ],
      "metadata": {
        "id": "DDIbm1mmR0Q9"
      }
    },
    {
      "cell_type": "code",
      "source": [
        "n  = int(input())\n",
        "for i in range(n):\n",
        "  m = list(map(int,input().split(\" \")))\n",
        "  print(m[0]*2+m[1]*4)"
      ],
      "metadata": {
        "colab": {
          "base_uri": "https://localhost:8080/"
        },
        "id": "axqjBYZnR4vX",
        "outputId": "9baff82f-6ad1-40bf-909d-e6be27e7e682"
      },
      "execution_count": 2,
      "outputs": [
        {
          "output_type": "stream",
          "name": "stdout",
          "text": [
            "2\n",
            "2 1\n",
            "8\n",
            "3 0\n",
            "6\n"
          ]
        }
      ]
    },
    {
      "cell_type": "code",
      "source": [
        "\n"
      ],
      "metadata": {
        "id": "NrDoxczUSIW2"
      },
      "execution_count": 2,
      "outputs": []
    }
  ]
}