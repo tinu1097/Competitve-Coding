{
  "cells": [
    {
      "cell_type": "markdown",
      "metadata": {
        "id": "view-in-github",
        "colab_type": "text"
      },
      "source": [
        "<a href=\"https://colab.research.google.com/github/tinu1097/Competitve-Coding/blob/main/Assignment_Turabit.ipynb\" target=\"_parent\"><img src=\"https://colab.research.google.com/assets/colab-badge.svg\" alt=\"Open In Colab\"/></a>"
      ]
    },
    {
      "cell_type": "raw",
      "metadata": {
        "id": "qmY1yk7lKLZ1"
      },
      "source": [
        "1) Write a program for finding ‘6’ Character Words.\n",
        "\n",
        "*   List item\n",
        "*   List item\n",
        "\n",
        "\n",
        "Suppose the following input is supplied to the program:\n",
        "Total thirty animals are in circle for circus.\n",
        "Then, the output should be:\n",
        "['thirty','circle','circus']"
      ]
    },
    {
      "cell_type": "code",
      "execution_count": null,
      "metadata": {
        "id": "D69BKgC0KLaF",
        "outputId": "2db6b29d-c9d2-4e67-a165-a406f89f5ba7"
      },
      "outputs": [
        {
          "name": "stdout",
          "output_type": "stream",
          "text": [
            "Total thirty animals are in circle for circus\n",
            "['thirty', 'circle', 'circus']\n"
          ]
        }
      ],
      "source": [
        "animal = input().split()\n",
        "final_animal = []\n",
        "for i in animal:\n",
        "    w_l=0\n",
        "    for j in i:\n",
        "        w_l = w_l+1\n",
        "    if w_l==6:\n",
        "        final_animal.append(i)\n",
        "print(final_animal)"
      ]
    },
    {
      "cell_type": "raw",
      "metadata": {
        "id": "GtzyWpU3KLaT"
      },
      "source": [
        "2) Suppose the following input is supplied to the program:\n",
        "str1 = \"qwdergvdfgtsc\"\n",
        "str2 = \"edqqagdrgafrq\"\n",
        "Then, the output should be:\n",
        "No. of matching characters are : 6 \n",
        "Matching characters are : {'f', 'r', 'q', 'e', 'd', 'g'}"
      ]
    },
    {
      "cell_type": "code",
      "execution_count": null,
      "metadata": {
        "id": "wFfXIeHvKLaV",
        "outputId": "41b3249a-8c66-4298-c425-4350f19d6033"
      },
      "outputs": [
        {
          "name": "stdout",
          "output_type": "stream",
          "text": [
            "qwdergvdfgtsc\n",
            "edqqagdrgafrq\n",
            "No.of matching characters are : 6\n",
            "Matching characters are :{'d', 'f', 'g', 'e', 'q', 'r'}\n"
          ]
        }
      ],
      "source": [
        "#str1 = \"qwdergvdfgtsc\"\n",
        "#str2 = \"edqqagdrgafrq\"\n",
        "\n",
        "str1 = input() \n",
        "str2 = input()\n",
        "c = 0\n",
        "s = []\n",
        "for i in str1:\n",
        "    for j in str2:\n",
        "        if i==j:\n",
        "            if i in s:\n",
        "                s = s\n",
        "            else:\n",
        "                c = c+1\n",
        "                s.append(i)\n",
        "print(\"No.of matching characters are : {}\".format(c))\n",
        "print(\"Matching characters are :{}\".format(set(s)))"
      ]
    },
    {
      "cell_type": "raw",
      "metadata": {
        "id": "LKEIx8YYKLaX"
      },
      "source": [
        "3) Write a program to Print anagrams together.\n",
        "Suppose the following input is supplied to the program:\n",
        "['bfee', 'ebef', 'cat', 'god', 'tac', 'dog', 'feeb' ,'tca', 'gdo']\n",
        "Then, the output should be:\n",
        "'bfee ebef feeb cat tac tca god dog gdo'"
      ]
    },
    {
      "cell_type": "code",
      "execution_count": null,
      "metadata": {
        "id": "q8Q6z_daKLaZ",
        "outputId": "1234dada-93f7-4aa8-b3e5-3f00581d43cf"
      },
      "outputs": [
        {
          "name": "stdout",
          "output_type": "stream",
          "text": [
            "input: ['bfee', 'ebef', 'cat', 'god', 'tac', 'dog', 'feeb', 'tca', 'gdo']\n",
            "The output: bfee ebef cat god tac dog feeb tca gdo\n"
          ]
        }
      ],
      "source": [
        "x = ['bfee', 'ebef', 'cat', 'god', 'tac', 'dog', 'feeb' ,'tca', 'gdo']\n",
        "print(\"input:\",x)\n",
        "s =''\n",
        "for i in x:\n",
        "    s = s+' '+i\n",
        "print(\"The output:{}\".format(str(s))) "
      ]
    },
    {
      "cell_type": "raw",
      "metadata": {
        "id": "7u9lavXHKLaa"
      },
      "source": [
        "4) Write a program to sorting the list.\n",
        "Suppose the following input is supplied to the program:\n",
        "[25,45,78,72,25]\n",
        "Then, the output should be:\n",
        "[25,25,45,72,78]"
      ]
    },
    {
      "cell_type": "code",
      "execution_count": null,
      "metadata": {
        "id": "2co1JaExKLad",
        "outputId": "1804ed5a-647a-4418-92d5-c7923de6f6ac"
      },
      "outputs": [
        {
          "name": "stdout",
          "output_type": "stream",
          "text": [
            "25 45 78 72 25\n",
            "[25, 25, 45, 72, 78]\n"
          ]
        }
      ],
      "source": [
        "l = list(map(int,input().split()))\n",
        "for i in range(len(l)-1):\n",
        "    for j in range(i+1,len(l)):\n",
        "        if l[i]>l[j]:\n",
        "            l[i],l[j] = l[j],l[i]\n",
        "print(l)"
      ]
    },
    {
      "cell_type": "raw",
      "metadata": {
        "id": "rGrNKRbHKLaf"
      },
      "source": [
        "5) Write a program to create pattern.\n",
        "The output should be:\n",
        "5 4 3 2 1 1 2 3 4 5 \n",
        "5 4 3 2 2 3 4 5\n",
        "5 4 3 3 4 5\n",
        "5 4 4 5\n",
        "5 5"
      ]
    },
    {
      "cell_type": "code",
      "execution_count": null,
      "metadata": {
        "id": "w89pHGHjKLah",
        "outputId": "ce77625e-d580-4288-fd6c-ce0018c9cd19"
      },
      "outputs": [
        {
          "name": "stdout",
          "output_type": "stream",
          "text": [
            "5\n",
            "5 4 3 2 1 1 2 3 4 5 \n",
            "5 4 3 2 2 3 4 5 \n",
            "5 4 3 3 4 5 \n",
            "5 4 4 5 \n",
            "5 5 \n"
          ]
        }
      ],
      "source": [
        "n = int(input())\n",
        "for i in range(n,0,-1):\n",
        "    for j in range(i+(n-i),n-i,-1):\n",
        "        print(j,end=\" \")\n",
        "    for k in range((n+1-i),n+1):\n",
        "        print(k,end=\" \") \n",
        "    print()"
      ]
    },
    {
      "cell_type": "code",
      "execution_count": null,
      "metadata": {
        "id": "dxo4hqJcKLaj",
        "outputId": "f2d8fff1-3178-4c93-f4b5-c74b9a53d8f6"
      },
      "outputs": [
        {
          "name": "stdout",
          "output_type": "stream",
          "text": [
            "----Thankyou----\n"
          ]
        }
      ],
      "source": [
        "print(\"----Thankyou----\")"
      ]
    },
    {
      "cell_type": "code",
      "execution_count": null,
      "metadata": {
        "id": "tU-VzX1BKLak"
      },
      "outputs": [],
      "source": [
        ""
      ]
    }
  ],
  "metadata": {
    "kernelspec": {
      "display_name": "Python 3",
      "language": "python",
      "name": "python3"
    },
    "language_info": {
      "codemirror_mode": {
        "name": "ipython",
        "version": 3
      },
      "file_extension": ".py",
      "mimetype": "text/x-python",
      "name": "python",
      "nbconvert_exporter": "python",
      "pygments_lexer": "ipython3",
      "version": "3.7.4"
    },
    "colab": {
      "name": "Assignment_Turabit.ipynb",
      "provenance": [],
      "collapsed_sections": [],
      "include_colab_link": true
    }
  },
  "nbformat": 4,
  "nbformat_minor": 0
}